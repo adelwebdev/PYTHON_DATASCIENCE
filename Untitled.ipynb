{
 "cells": [
  {
   "cell_type": "code",
   "execution_count": null,
   "id": "47cc563f",
   "metadata": {},
   "outputs": [],
   "source": [
    "import pandas as pd\n",
    "import numpy as np\n",
    "import matplotlib.pyplot as plt\n",
    "\n",
    "n = 1000\n",
    "T = 1\n",
    "times = np.linspace(0, T, n)\n",
    "dt = times[1] - times[0]\n",
    "dB = np.sqrt(dt) * np.random.normal(size = (n-1,))\n",
    "B0 = np.zeros(shape=(1,))\n",
    "B = np.concatenate((B0, np.cumsum(dB)))\n",
    "plt.plot(times, B)\n",
    "plt.show()"
   ]
  },
  {
   "cell_type": "code",
   "execution_count": 172,
   "id": "d9fce762",
   "metadata": {},
   "outputs": [
    {
     "data": {
      "text/plain": [
       "array(['HipHop'], dtype=object)"
      ]
     },
     "execution_count": 172,
     "metadata": {},
     "output_type": "execute_result"
    }
   ],
   "source": [
    "import pandas as pd\n",
    "from sklearn.tree import DecisionTreeClassifier\n",
    "import joblib\n",
    "\n",
    "# df = pd.read_csv(\"music.csv\")\n",
    "# x = df.drop(columns=[\"genre\"])\n",
    "# y = df[\"genre\"]\n",
    "\n",
    "# model = DecisionTreeClassifier()\n",
    "# model.fit(x, y)\n",
    "\n",
    "# joblib.dump(model, \"music-recommender.joblib\")\n",
    "\n",
    "model = joblib.load(\"music-recommender.joblib\")\n",
    "prediction = model.predict( [ [21,1] ] )\n",
    "prediction"
   ]
  },
  {
   "cell_type": "markdown",
   "id": "8a50a8ef",
   "metadata": {},
   "source": [
    "import pandas as pd\n",
    "import numpy as np\n",
    "import matplotlib.pyplot as plt\n",
    "\n",
    "n = 1000\n",
    "d = 10\n",
    "T = 1\n",
    "times = np.linspace(0, T, n)\n",
    "dt = times[1] - times[0]\n",
    "dB = np.sqrt(dt) * np.random.normal(size = (n-1, d))\n",
    "B0 = np.zeros(shape=(1, d))\n",
    "B = np.concatenate((B0, np.cumsum(dB, axis = 0)), axis = 0)\n",
    "plt.plot(times, B)\n",
    "plt.show()"
   ]
  },
  {
   "cell_type": "code",
   "execution_count": null,
   "id": "b4586de6",
   "metadata": {},
   "outputs": [],
   "source": [
    "import pandas as pd\n",
    "import numpy as np\n",
    "import matplotlib.pyplot as plt\n",
    "\n",
    "n = 1000\n",
    "T = 1\n",
    "d = 10 \n",
    "times = np.linspace(0, T, n)\n",
    "dt = times[1] - times[0]\n",
    "dB = np.sqrt(dt) * np.random.normal(size = (n-1, d))\n",
    "B0 = np.zeros(shape=(1, d))\n",
    "B = np.concatenate((B0, np.cumsum(dB, axis = 0)), axis = 0)\n",
    "plt.plot(times, B)\n",
    "plt.show()"
   ]
  },
  {
   "cell_type": "code",
   "execution_count": null,
   "id": "758bf562",
   "metadata": {},
   "outputs": [],
   "source": []
  },
  {
   "cell_type": "code",
   "execution_count": null,
   "id": "4ca11c53",
   "metadata": {},
   "outputs": [],
   "source": []
  },
  {
   "cell_type": "code",
   "execution_count": null,
   "id": "315982b3",
   "metadata": {},
   "outputs": [],
   "source": []
  },
  {
   "cell_type": "code",
   "execution_count": null,
   "id": "aef55a2c",
   "metadata": {},
   "outputs": [],
   "source": []
  },
  {
   "cell_type": "code",
   "execution_count": null,
   "id": "5135e887",
   "metadata": {},
   "outputs": [],
   "source": []
  }
 ],
 "metadata": {
  "celltoolbar": "Aucun(e)",
  "kernelspec": {
   "display_name": "Python 3 (ipykernel)",
   "language": "python",
   "name": "python3"
  },
  "language_info": {
   "codemirror_mode": {
    "name": "ipython",
    "version": 3
   },
   "file_extension": ".py",
   "mimetype": "text/x-python",
   "name": "python",
   "nbconvert_exporter": "python",
   "pygments_lexer": "ipython3",
   "version": "3.9.7"
  }
 },
 "nbformat": 4,
 "nbformat_minor": 5
}
